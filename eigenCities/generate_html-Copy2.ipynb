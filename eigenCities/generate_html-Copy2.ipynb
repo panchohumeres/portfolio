{
 "cells": [
  {
   "cell_type": "code",
   "execution_count": 895,
   "metadata": {},
   "outputs": [],
   "source": [
    "import jinja2\n",
    "import os\n",
    "import cv2\n",
    "import pandas as pd\n",
    "import numpy as np\n",
    "from bs4 import BeautifulSoup, Tag"
   ]
  },
  {
   "cell_type": "code",
   "execution_count": 896,
   "metadata": {},
   "outputs": [],
   "source": [
    "def describe_images(folder):\n",
    "    desc=[]\n",
    "    for i in os.listdir(folder):\n",
    "        image =folder+'/'+i\n",
    "        img =  cv2.imread(image)\n",
    "        height, width, depth = img.shape\n",
    "        desc.append({'file':image,'w':width,'h':height,'aspect_ratio':height/width})\n",
    "        \n",
    "    desc=pd.DataFrame(desc)\n",
    "    \n",
    "    return desc"
   ]
  },
  {
   "cell_type": "code",
   "execution_count": 897,
   "metadata": {},
   "outputs": [],
   "source": [
    "html = open(\"reference.html\").read()\n",
    "soup = BeautifulSoup(html)\n",
    "filtered = soup.find_all('article')\n",
    "\n",
    "tags=[]\n",
    "for f in filtered:\n",
    "    tags.append({\n",
    "        'class':' '.join(f.get(\"class\")),\n",
    "        'full': f.find(\"a\").get(\"href\"),\n",
    "        'thumb':f.find(\"img\").get(\"src\")\n",
    "        \n",
    "    })"
   ]
  },
  {
   "cell_type": "code",
   "execution_count": 898,
   "metadata": {},
   "outputs": [],
   "source": [
    "tags=pd.DataFrame(tags)"
   ]
  },
  {
   "cell_type": "code",
   "execution_count": 899,
   "metadata": {},
   "outputs": [],
   "source": [
    "fulls=describe_images('images/fulls')"
   ]
  },
  {
   "cell_type": "code",
   "execution_count": 900,
   "metadata": {},
   "outputs": [],
   "source": [
    "thumbs=describe_images('images/thumbs')\n",
    "thumbs.columns=['tfile','tw','th','taspect_ratio']"
   ]
  },
  {
   "cell_type": "code",
   "execution_count": 901,
   "metadata": {},
   "outputs": [],
   "source": [
    "tags=tags.merge(fulls,left_on='full',right_on='file',how='left').merge(thumbs,left_on='thumb',right_on='tfile',how='left')"
   ]
  },
  {
   "cell_type": "code",
   "execution_count": 902,
   "metadata": {},
   "outputs": [],
   "source": [
    "class_order=tags['class'].to_list()"
   ]
  },
  {
   "cell_type": "code",
   "execution_count": 903,
   "metadata": {},
   "outputs": [],
   "source": [
    "#tmp thumbs descriptors\n",
    "tmpt=describe_images('images/tmp_density/thumbs')\n",
    "tmpt['tmp_thumb_filename']=tmpt.file.str.split('/',-1,expand=True)[3]\n",
    "tmpt['caption']=tmpt.tmp_thumb_filename.str.replace('_',' ').str.replace('|',', N° Tweets: ').str.rsplit('.',1,expand=True)[0]\n",
    "tmpt=tmpt.rename(columns={'file':'tmptfile','w':'tmpttw','h':'tmpth','aspect_ratio':'tmptaspect_ratio'})"
   ]
  },
  {
   "cell_type": "code",
   "execution_count": 904,
   "metadata": {},
   "outputs": [],
   "source": [
    "#tmp fulls descriptors\n",
    "tmpf=describe_images('images/tmp_density/fulls')\n",
    "tmpf['tmp_full_filename']=tmpf.file.str.split('/',-1,expand=True)[3]\n",
    "tmpf=tmpf.rename(columns={'file':'tmpffile','w':'tmpftw','h':'tmpfh','aspect_ratio':'tmpfaspect_ratio'})"
   ]
  },
  {
   "cell_type": "code",
   "execution_count": 905,
   "metadata": {},
   "outputs": [],
   "source": [
    "#merged tmp descriptor\n",
    "tmp=pd.merge(tmpt,tmpf,left_on='tmp_thumb_filename',right_on='tmp_full_filename',how='left')"
   ]
  },
  {
   "cell_type": "code",
   "execution_count": 906,
   "metadata": {},
   "outputs": [],
   "source": [
    "def match_images(thumbs,tags):\n",
    "    df=tags.copy()\n",
    "    tags_idxs=[]\n",
    "    for index, row in thumbs.iterrows():\n",
    "        #print('tmp index')\n",
    "        #print(index)\n",
    "        if df.shape[0]<1:\n",
    "            #print('resetting size')\n",
    "            df=tags.copy()\n",
    "        aspect_ratio=row['tmptaspect_ratio']\n",
    "        #print(aspect_ratio)\n",
    "        df2=df.iloc[(df['taspect_ratio']-aspect_ratio).abs().argsort()[:1]] #closest aspect ratio\n",
    "        w=df.tw.iloc[0]\n",
    "        h=df.th.iloc[0]\n",
    "        #print(w)\n",
    "        #print(h)\n",
    "        #print('new size')\n",
    "        df=df.drop(df2.index[0],axis=0)\n",
    "        #print(df.shape[0])\n",
    "        tags_idxs.append(df2.index[0])\n",
    "        \n",
    "    df=tags.copy()\n",
    "    df['index']=df.index\n",
    "    thumbs['tag_idx']=tags_idxs\n",
    "    thumbs=thumbs.merge(df,left_on='tag_idx',right_on='index',how='left')\n",
    "    thumbs['index']=thumbs.index\n",
    "        \n",
    "    return thumbs"
   ]
  },
  {
   "cell_type": "code",
   "execution_count": 907,
   "metadata": {},
   "outputs": [],
   "source": [
    "tags=match_images(tmp,tags)"
   ]
  },
  {
   "cell_type": "code",
   "execution_count": 908,
   "metadata": {},
   "outputs": [],
   "source": [
    "def tags_order(tags,order):\n",
    "    df=tags.copy()\n",
    "    \n",
    "    idxs=order[0:7]\n",
    "    for i in range(1,int(np.floor(df.shape[0]/8))):\n",
    "        if i == 1:\n",
    "            idx=i*7-1\n",
    "        else:\n",
    "            idx=i*8-1\n",
    "        idxs.extend(order[idx:idx+8])\n",
    "        \n",
    "        \n",
    "    order=[]    \n",
    "    for idx in idxs:\n",
    "        df2=df.loc[df['class']==idx,'index']\n",
    "        if df2.shape[0]>0:\n",
    "            #print('appending')\n",
    "            order.append(df2.index[0])\n",
    "            df=df.drop(df2.index[0],axis=0)\n",
    "            \n",
    "    order.extend(df.index.to_list())\n",
    "    tags['order']=order\n",
    "    tags=tags.sort_values(by='order')\n",
    "    tags['switch']=np.floor(tags['order']/8).diff().diff().fillna(0)\n",
    "    tags.loc[tags['order']==0,'switch']=0\n",
    "    if tags.shape[0]>8:\n",
    "        tags.loc[tags['order'].isin([7,8,9,10,11]),'switch']=[1,-1,0,0,0]\n",
    "    tags['index']=tags['order']\n",
    "    tags.index=tags['index']\n",
    "\n",
    "    introw=274 #row de frame de intro\n",
    "    tags['wcontrol']=tags['tmpttw']\n",
    "    first_row=tags.loc[0,'wcontrol']+introw\n",
    "    tags.loc[0,'wcontrol']=first_row\n",
    "    tags['wcontrol']=np.floor(tags['wcontrol'].cumsum()/tags.loc[0:7,'wcontrol'].sum()).diff().diff().fillna(0)\n",
    "    #tags.loc[0,'wcontrol']=0\n",
    "    #tags['wcontrol']=tags['switch']-tags['wcontrol']\n",
    "    tags['switch']=tags['wcontrol']\n",
    "    \n",
    "        \n",
    "    return tags"
   ]
  },
  {
   "cell_type": "code",
   "execution_count": 909,
   "metadata": {},
   "outputs": [],
   "source": [
    "tags=tags_order(tags,class_order)"
   ]
  },
  {
   "cell_type": "code",
   "execution_count": 910,
   "metadata": {},
   "outputs": [],
   "source": [
    "tags=tags[['switch','index','class','caption','tmpffile','tmptfile','order']].sort_values(by='order').rename(columns={'tmptfile':'thumb','tmpffile':'full'}).to_dict(orient='records')"
   ]
  },
  {
   "cell_type": "code",
   "execution_count": 911,
   "metadata": {},
   "outputs": [
    {
     "data": {
      "text/plain": [
       "[{'switch': 0.0,\n",
       "  'index': 0,\n",
       "  'class': 'item thumb span-3',\n",
       "  'caption': 'new york-new jersey-philadelphia, N° Tweets: 2MM',\n",
       "  'full': 'images/tmp_density/fulls/new_york-new_jersey-philadelphia|2MM.png',\n",
       "  'thumb': 'images/tmp_density/thumbs/new_york-new_jersey-philadelphia|2MM.png',\n",
       "  'order': 0},\n",
       " {'switch': 0.0,\n",
       "  'index': 1,\n",
       "  'class': 'item thumb span-2',\n",
       "  'caption': 'tokio-yokohama, N° Tweets: 2MM',\n",
       "  'full': 'images/tmp_density/fulls/tokio-yokohama|2MM.png',\n",
       "  'thumb': 'images/tmp_density/thumbs/tokio-yokohama|2MM.png',\n",
       "  'order': 1},\n",
       " {'switch': 0.0,\n",
       "  'index': 2,\n",
       "  'class': 'item thumb span-3',\n",
       "  'caption': 'minneapolis-st paul',\n",
       "  'full': 'images/tmp_density/fulls/minneapolis-st_paul.png',\n",
       "  'thumb': 'images/tmp_density/thumbs/minneapolis-st_paul.png',\n",
       "  'order': 2},\n",
       " {'switch': 0.0,\n",
       "  'index': 3,\n",
       "  'class': 'item thumb span-2',\n",
       "  'caption': 'lower countries, N° Tweets: 570K',\n",
       "  'full': 'images/tmp_density/fulls/lower_countries|570K.png',\n",
       "  'thumb': 'images/tmp_density/thumbs/lower_countries|570K.png',\n",
       "  'order': 3},\n",
       " {'switch': 1.0,\n",
       "  'index': 4,\n",
       "  'class': 'item thumb span-2',\n",
       "  'caption': 'london, N° Tweets: 500K',\n",
       "  'full': 'images/tmp_density/fulls/london|500K.png',\n",
       "  'thumb': 'images/tmp_density/thumbs/london|500K.png',\n",
       "  'order': 4}]"
      ]
     },
     "execution_count": 911,
     "metadata": {},
     "output_type": "execute_result"
    }
   ],
   "source": [
    "tags"
   ]
  },
  {
   "cell_type": "code",
   "execution_count": 912,
   "metadata": {},
   "outputs": [],
   "source": [
    "from jinja2 import Template\n",
    "with open('template.html') as file_:\n",
    "    template = Template(file_.read())\n"
   ]
  },
  {
   "cell_type": "code",
   "execution_count": 913,
   "metadata": {},
   "outputs": [],
   "source": [
    "rendered=template.render(tags=tags)"
   ]
  },
  {
   "cell_type": "code",
   "execution_count": 914,
   "metadata": {},
   "outputs": [],
   "source": [
    "with open('density.html', 'w') as f:\n",
    "    f.write(rendered)"
   ]
  },
  {
   "cell_type": "code",
   "execution_count": null,
   "metadata": {},
   "outputs": [],
   "source": []
  }
 ],
 "metadata": {
  "kernelspec": {
   "display_name": "Python 3",
   "language": "python",
   "name": "python3"
  },
  "language_info": {
   "codemirror_mode": {
    "name": "ipython",
    "version": 3
   },
   "file_extension": ".py",
   "mimetype": "text/x-python",
   "name": "python",
   "nbconvert_exporter": "python",
   "pygments_lexer": "ipython3",
   "version": "3.7.6"
  }
 },
 "nbformat": 4,
 "nbformat_minor": 4
}
