{
 "cells": [
  {
   "cell_type": "code",
   "execution_count": 123,
   "metadata": {},
   "outputs": [],
   "source": [
    "import jinja2\n",
    "import os\n",
    "import cv2\n",
    "import pandas as pd\n",
    "import numpy as np\n",
    "from bs4 import BeautifulSoup, Tag"
   ]
  },
  {
   "cell_type": "code",
   "execution_count": 124,
   "metadata": {},
   "outputs": [],
   "source": [
    "desc=pd.read_excel('images_desc.xlsx',encoding='utf-8',header=0)\n",
    "desc['index']=desc['index'].astype(str).str.strip()"
   ]
  },
  {
   "cell_type": "code",
   "execution_count": 125,
   "metadata": {},
   "outputs": [],
   "source": [
    "def describe_images(folder):\n",
    "    desc=[]\n",
    "    for i in os.listdir(folder):\n",
    "        image =folder+'/'+i\n",
    "        #print(image)\n",
    "        img =  cv2.imread(image)\n",
    "        height, width, depth = img.shape\n",
    "        desc.append({'file':image,'w':width,'h':height,'aspect_ratio':height/width})\n",
    "        \n",
    "    desc=pd.DataFrame(desc)\n",
    "    \n",
    "    return desc"
   ]
  },
  {
   "cell_type": "code",
   "execution_count": 126,
   "metadata": {},
   "outputs": [],
   "source": [
    "thumbs=describe_images('images/tmp/thumbs')\n",
    "thumbs.columns=['tfile','tw','th','taspect_ratio']\n",
    "thumbs['index']=thumbs['tfile'].str.split('/',-1,expand=True)[3].str.split('-',expand=True)[0].str.strip('.JPG').str.strip()"
   ]
  },
  {
   "cell_type": "code",
   "execution_count": 127,
   "metadata": {},
   "outputs": [],
   "source": [
    "fulls=describe_images('images/tmp/fulls')\n",
    "fulls['index']=fulls['file'].str.split('/',-1,expand=True)[3].str.split('-',expand=True)[0].str.strip('.JPG').str.strip()"
   ]
  },
  {
   "cell_type": "code",
   "execution_count": 128,
   "metadata": {},
   "outputs": [],
   "source": [
    "tags=desc.merge(thumbs,on='index',how='left').merge(fulls,on='index',how='left')\n",
    "tags=tags.rename(columns={'Description':'caption','Title':'Title','tfile':'thumb','file':'full'})\n",
    "tags.loc[tags['index']=='intro','index']=str(0)"
   ]
  },
  {
   "cell_type": "code",
   "execution_count": 129,
   "metadata": {},
   "outputs": [],
   "source": [
    "tags=tags.sort_values(by='index').to_dict(orient='records')"
   ]
  },
  {
   "cell_type": "code",
   "execution_count": 130,
   "metadata": {},
   "outputs": [
    {
     "data": {
      "text/plain": [
       "[{'index': '0',\n",
       "  'Title': 'Project Description',\n",
       "  'caption': 'Examples of work, during my tenure as Co-Director of the project: \"Developing socio-spatial clustering algorithms to unveil urban dynamics from near real-time non-conventional data sources for urban planning, management, and monitoring of cities\". Tasks included the development of the proposal and supervision of the project for a year. Credits for collaborators: Horacio Samaniego, Boris Sotomayor, Mauricio Cisternas (UACH), Pablo Valenzuela, Fernando del Campo, Sebastián Pereira, Amanda Ibsen (INRIA).',\n",
       "  'thumb': 'images/tmp/thumbs/intro.JPG',\n",
       "  'tw': 360.0,\n",
       "  'th': 224.0,\n",
       "  'taspect_ratio': 0.6222222222222222,\n",
       "  'full': 'images/tmp/fulls/intro.JPG',\n",
       "  'w': 1200.0,\n",
       "  'h': 945.0,\n",
       "  'aspect_ratio': 0.7875},\n",
       " {'index': '1',\n",
       "  'Title': 'Proposal and Methods',\n",
       "  'caption': 'The initial proposal consisted in the exploration of several possibilities of Urban Boundaries as defined by socio-spatial clustering algorithms (based on the spectral analysis of networks), applied to mobile phone communications data in Chile. By summarizing in near-to-real time properties of cities such as Population, Infrastructure and Production, UACH researches were\\xa0expected to a) find a proper Urban Delineation for chilean cities, and b) detect critical deficits in urban infrastructure (according to the theory of Urban Scaling), which could be useful for urban and transportation planners.',\n",
       "  'thumb': 'images/tmp/thumbs/1-imagen_objetivo.png',\n",
       "  'tw': 360.0,\n",
       "  'th': 224.0,\n",
       "  'taspect_ratio': 0.6222222222222222,\n",
       "  'full': 'images/tmp/fulls/1-imagen_objetivo.png',\n",
       "  'w': 1200.0,\n",
       "  'h': 901.0,\n",
       "  'aspect_ratio': 0.7508333333333334},\n",
       " {'index': '2',\n",
       "  'Title': 'Proposal and Methods',\n",
       "  'caption': 'Vision for Wall-Display visualizations.',\n",
       "  'thumb': 'images/tmp/thumbs/2-imagen_objetivo.jpg',\n",
       "  'tw': 360.0,\n",
       "  'th': 224.0,\n",
       "  'taspect_ratio': 0.6222222222222222,\n",
       "  'full': 'images/tmp/fulls/2-imagen_objetivo.jpg',\n",
       "  'w': 1200.0,\n",
       "  'h': 900.0,\n",
       "  'aspect_ratio': 0.75},\n",
       " {'index': '3',\n",
       "  'Title': 'Proposal and Methods',\n",
       "  'caption': 'Methodology for constructing urban clusters.',\n",
       "  'thumb': 'images/tmp/thumbs/3-methods.jpg',\n",
       "  'tw': 360.0,\n",
       "  'th': 224.0,\n",
       "  'taspect_ratio': 0.6222222222222222,\n",
       "  'full': 'images/tmp/fulls/3-methods.jpg',\n",
       "  'w': 1200.0,\n",
       "  'h': 900.0,\n",
       "  'aspect_ratio': 0.75},\n",
       " {'index': '4',\n",
       "  'Title': 'Proposal and Methods',\n",
       "  'caption': 'Mehtodology for exploring urban boundaries and summarizing citiy properties.',\n",
       "  'thumb': 'images/tmp/thumbs/4-methods.jpg',\n",
       "  'tw': 360.0,\n",
       "  'th': 224.0,\n",
       "  'taspect_ratio': 0.6222222222222222,\n",
       "  'full': 'images/tmp/fulls/4-methods.jpg',\n",
       "  'w': 1200.0,\n",
       "  'h': 900.0,\n",
       "  'aspect_ratio': 0.75},\n",
       " {'index': '5',\n",
       "  'Title': 'Big-Data solution',\n",
       "  'caption': 'Architecture of Big-Data infrastructure, used for applying socio-spatial clustering algorithms to mobile communications data, and visualizing results in near to-real time.',\n",
       "  'thumb': 'images/tmp/thumbs/5-arq.png',\n",
       "  'tw': 360.0,\n",
       "  'th': 224.0,\n",
       "  'taspect_ratio': 0.6222222222222222,\n",
       "  'full': 'images/tmp/fulls/5-arq.png',\n",
       "  'w': 1200.0,\n",
       "  'h': 685.0,\n",
       "  'aspect_ratio': 0.5708333333333333},\n",
       " {'index': '6',\n",
       "  'Title': 'Wall-Display',\n",
       "  'caption': 'Testing Wall-Display with results from clustering technique applied to the Santiago-Valparaíso region.',\n",
       "  'thumb': 'images/tmp/thumbs/6-wd.png',\n",
       "  'tw': 360.0,\n",
       "  'th': 224.0,\n",
       "  'taspect_ratio': 0.6222222222222222,\n",
       "  'full': 'images/tmp/fulls/6-wd.png',\n",
       "  'w': 1200.0,\n",
       "  'h': 619.0,\n",
       "  'aspect_ratio': 0.5158333333333334},\n",
       " {'index': '7',\n",
       "  'Title': 'Wall-Display',\n",
       "  'caption': 'Testing the application of clustering techniques for the Santiago-Valparaíso region, on data from government’s Origin-Destination surveys.',\n",
       "  'thumb': 'images/tmp/thumbs/7-wi.png',\n",
       "  'tw': 360.0,\n",
       "  'th': 224.0,\n",
       "  'taspect_ratio': 0.6222222222222222,\n",
       "  'full': 'images/tmp/fulls/7-wi.png',\n",
       "  'w': 1200.0,\n",
       "  'h': 697.0,\n",
       "  'aspect_ratio': 0.5808333333333333},\n",
       " {'index': '8',\n",
       "  'Title': 'Web-Interface',\n",
       "  'caption': 'Demo of Web-Interface (Developed by INRIA engineers), which provided near-to-real time aggregates for Population, according to several agglomerations of geographic entities (4 distinct units), from several clusters as defined by a slider based on a simple clustering technique (cell phone activity).',\n",
       "  'thumb': 'images/tmp/thumbs/8-wi-antenas.png',\n",
       "  'tw': 360.0,\n",
       "  'th': 225.0,\n",
       "  'taspect_ratio': 0.625,\n",
       "  'full': 'images/tmp/fulls/8-wi-antenas.png',\n",
       "  'w': 1200.0,\n",
       "  'h': 750.0,\n",
       "  'aspect_ratio': 0.625},\n",
       " {'index': '9',\n",
       "  'Title': 'Web-Interface',\n",
       "  'caption': 'Left: Example of population aggregates for urban clusters at specified threshold level, Right: Chile’s Cell Phone Towers (30K+) Map.',\n",
       "  'thumb': nan,\n",
       "  'tw': nan,\n",
       "  'th': nan,\n",
       "  'taspect_ratio': nan,\n",
       "  'full': nan,\n",
       "  'w': nan,\n",
       "  'h': nan,\n",
       "  'aspect_ratio': nan}]"
      ]
     },
     "execution_count": 130,
     "metadata": {},
     "output_type": "execute_result"
    }
   ],
   "source": [
    "tags"
   ]
  },
  {
   "cell_type": "code",
   "execution_count": 131,
   "metadata": {},
   "outputs": [],
   "source": [
    "from jinja2 import Template\n",
    "with open('template.html') as file_:\n",
    "    template = Template(file_.read())"
   ]
  },
  {
   "cell_type": "code",
   "execution_count": 132,
   "metadata": {},
   "outputs": [],
   "source": [
    "rendered=template.render(tags=tags)"
   ]
  },
  {
   "cell_type": "code",
   "execution_count": null,
   "metadata": {},
   "outputs": [],
   "source": [
    "with open('index.html', 'w') as f:\n",
    "    f.write(rendered)"
   ]
  },
  {
   "cell_type": "code",
   "execution_count": null,
   "metadata": {},
   "outputs": [],
   "source": []
  }
 ],
 "metadata": {
  "kernelspec": {
   "display_name": "Python 3",
   "language": "python",
   "name": "python3"
  },
  "language_info": {
   "codemirror_mode": {
    "name": "ipython",
    "version": 3
   },
   "file_extension": ".py",
   "mimetype": "text/x-python",
   "name": "python",
   "nbconvert_exporter": "python",
   "pygments_lexer": "ipython3",
   "version": "3.7.6"
  }
 },
 "nbformat": 4,
 "nbformat_minor": 4
}
