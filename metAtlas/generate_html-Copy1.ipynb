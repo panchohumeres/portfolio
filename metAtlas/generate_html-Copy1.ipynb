{
 "cells": [
  {
   "cell_type": "code",
   "execution_count": 121,
   "metadata": {},
   "outputs": [],
   "source": [
    "import jinja2\n",
    "import os\n",
    "import cv2\n",
    "import pandas as pd\n",
    "import numpy as np\n",
    "from bs4 import BeautifulSoup, Tag"
   ]
  },
  {
   "cell_type": "code",
   "execution_count": 122,
   "metadata": {},
   "outputs": [],
   "source": [
    "def describe_images(folder):\n",
    "    desc=[]\n",
    "    for i in os.listdir(folder):\n",
    "        image =folder+'/'+i\n",
    "        #print(image)\n",
    "        img =  cv2.imread(image)\n",
    "        height, width, depth = img.shape\n",
    "        desc.append({'file':image,'w':width,'h':height,'aspect_ratio':height/width})\n",
    "        \n",
    "    desc=pd.DataFrame(desc)\n",
    "    \n",
    "    return desc"
   ]
  },
  {
   "cell_type": "code",
   "execution_count": 124,
   "metadata": {},
   "outputs": [],
   "source": [
    "thumbs=describe_images('images/tmp_density/thumbs')\n",
    "thumbs.columns=['tfile','tw','th','taspect_ratio']"
   ]
  },
  {
   "cell_type": "code",
   "execution_count": 125,
   "metadata": {},
   "outputs": [],
   "source": [
    "fulls=describe_images('images/tmp_density/fulls')"
   ]
  },
  {
   "cell_type": "code",
   "execution_count": 126,
   "metadata": {},
   "outputs": [],
   "source": [
    "html = open(\"density.html\").read()\n",
    "soup = BeautifulSoup(html)\n",
    "filtered = soup.find_all('article')\n",
    "\n",
    "tags=[]\n",
    "for f in filtered[1:]:\n",
    "    tags.append({\n",
    "        'class':' '.join(f.get(\"class\")),\n",
    "        'full': f.find(\"a\").get(\"href\"),\n",
    "        'thumb':f.find(\"img\").get(\"src\")\n",
    "        \n",
    "    })"
   ]
  },
  {
   "cell_type": "code",
   "execution_count": 127,
   "metadata": {},
   "outputs": [],
   "source": [
    "tags=pd.DataFrame(tags)"
   ]
  },
  {
   "cell_type": "code",
   "execution_count": 128,
   "metadata": {},
   "outputs": [],
   "source": [
    "tags=tags.merge(fulls,left_on='full',right_on='file',how='left').merge(thumbs,left_on='thumb',right_on='tfile',how='left')"
   ]
  },
  {
   "cell_type": "code",
   "execution_count": 129,
   "metadata": {},
   "outputs": [],
   "source": [
    "tags=tags.head(4)"
   ]
  },
  {
   "cell_type": "code",
   "execution_count": 130,
   "metadata": {},
   "outputs": [],
   "source": [
    "def match(source,model):\n",
    "    df=model.copy()\n",
    "    src=source.copy()\n",
    "    idxs=[]\n",
    "    for index, row in df.iterrows():\n",
    "        aspect_ratio=row['aspect_ratio']\n",
    "        src2=src.iloc[(src['aspect_ratio']-aspect_ratio).abs().argsort()[:1]] #closest aspect ratio in source\n",
    "\n",
    "        src=src.drop(src2.index[0],axis=0)\n",
    "            #print(df.shape[0])\n",
    "        idxs.append(src2.index[0])\n",
    "        \n",
    "    model['srcidx']=idxs\n",
    "    src=source.copy()\n",
    "    src=src.rename(columns={'file':'sfile','w':'sw','h':'sh','aspect_ratio':'saspect_ratio'})\n",
    "    src['srcidx']=src.index\n",
    "    model=model.merge(src,on='srcidx',how='left')\n",
    "        \n",
    "    return model\n",
    "        "
   ]
  },
  {
   "cell_type": "code",
   "execution_count": 132,
   "metadata": {},
   "outputs": [],
   "source": [
    "source=describe_images('images/Francisco Humeres - Clustering Experiments_files2')"
   ]
  },
  {
   "cell_type": "code",
   "execution_count": 133,
   "metadata": {},
   "outputs": [],
   "source": [
    "tags=match(source,tags)"
   ]
  },
  {
   "cell_type": "code",
   "execution_count": 134,
   "metadata": {},
   "outputs": [],
   "source": [
    "def resize(img,ar,w,h):\n",
    "    height, width, depth = img.shape\n",
    "    aspect_ratio = ar #actual aspect ratio\n",
    "    print('original size ---> height: '+str(height)+' width: '+str(width))\n",
    "    if height>width:\n",
    "        dimension = (int(h/aspect_ratio),h)\n",
    "    else:\n",
    "        dimension = (w,int(w*aspect_ratio))\n",
    "    \n",
    "    print('new size ---> height: '+str(dimension[0])+' width: '+str(dimension[1]))\n",
    "    return cv2.resize(img, dimension)\n",
    "    #return dimension"
   ]
  },
  {
   "cell_type": "code",
   "execution_count": 135,
   "metadata": {},
   "outputs": [],
   "source": [
    "def caption(img,caption,x,y):\n",
    "    height, width, depth = img.shape\n",
    "    \n",
    "    BLACK = (255,255,255)\n",
    "    font = cv2.FONT_HERSHEY_SIMPLEX\n",
    "    font_size = 0.5\n",
    "    font_color = BLACK\n",
    "    font_thickness = 1\n",
    "    text = caption\n",
    "    x,y = int(width*x),int(height*y)\n",
    "    img = cv2.putText(img, text, (x,y), font, font_size, font_color, font_thickness, cv2.LINE_AA)\n",
    "    \n",
    "    return img"
   ]
  },
  {
   "cell_type": "code",
   "execution_count": 136,
   "metadata": {},
   "outputs": [],
   "source": [
    "def thumbnail(img,ar,w,h):\n",
    "    height, width, depth = img.shape\n",
    "    print('original image dim---> height:'+str(height)+' width: '+str(width))\n",
    "    aspect_ratio = ar #actual aspect ratio\n",
    "    if width>height:        \n",
    "        if int(w*aspect_ratio)>h:\n",
    "            dimension=(w,int(w*aspect_ratio))\n",
    "        else:\n",
    "            dimension=(int(h/aspect_ratio),h)\n",
    "    else:\n",
    "        if int(w*aspect_ratio)>h:\n",
    "            dimension=(w,int(w*aspect_ratio))\n",
    "        else:\n",
    "            dimension=(int(h/aspect_ratio),h)\n",
    "    print(dimension)\n",
    "    img=cv2.resize(img, dimension)\n",
    "    height, width, depth = img.shape\n",
    "    print('resized image dim---> height:'+str(height)+' width: '+str(width))    \n",
    "    \n",
    "\n",
    "    img=img[\n",
    "            int(height/2)-int(h/2):int(height/2)+int(h/2),\n",
    "    int(width/2)-int(w/2):int(width/2)+int(w/2)]\n",
    "    height, width, depth = img.shape\n",
    "    print('final thumbnail dim---> height:'+str(height)+' width: '+str(width))\n",
    "    return img"
   ]
  },
  {
   "cell_type": "code",
   "execution_count": 137,
   "metadata": {},
   "outputs": [],
   "source": [
    "def batch_resize(df,target='',thumb_target='',cap=''):\n",
    "    tmptfile=[]\n",
    "    tmptw=[]\n",
    "    tmpth=[]\n",
    "    tmptaspect_ratio=[]\n",
    "    \n",
    "    tmpffile=[]\n",
    "    tmpfw=[]\n",
    "    tmpfh=[]\n",
    "    tmpfaspect_ratio=[]\n",
    "    \n",
    "    for index, row in df.iterrows():\n",
    "        i=row['sfile'].rsplit('/',1)[1]\n",
    "        image =row['sfile']\n",
    "        print('processing image:'+image)\n",
    "        img =  cv2.imread(image)\n",
    "\n",
    "        print('resizing image')\n",
    "        aspect_ratio=row['saspect_ratio']\n",
    "        w=row['w']\n",
    "        h=row['h']\n",
    "        img=resize(img,aspect_ratio,w,h)\n",
    "        h, w, d = img.shape\n",
    "        tmpffile.append(target+'/'+i)\n",
    "        tmpfw.append(w)\n",
    "        tmpfh.append(h)\n",
    "        tmpfaspect_ratio.append(h/w)\n",
    "        \n",
    "        w=row['tw']\n",
    "        h=row['th']\n",
    "        print('generating thumbnail')\n",
    "        thumb=thumbnail(img,aspect_ratio,w,h)\n",
    "        h, w, d = thumb.shape\n",
    "        tmptfile.append(thumb_target+'/'+i)\n",
    "        tmptw.append(w)\n",
    "        tmpth.append(h)\n",
    "        tmptaspect_ratio.append(h/w)\n",
    "\n",
    "        print('adding caption')\n",
    "        img=caption(img,cap,0.07,0.95)\n",
    "        print('saving file '+target+'/'+i)\n",
    "        cv2.imwrite(target+'/'+i,img)\n",
    "        print('saving file '+thumb_target+'/'+i)\n",
    "        cv2.imwrite(thumb_target+'/'+i,thumb)\n",
    "        \n",
    "    df['tmptfile']=tmptfile\n",
    "    df['tmptw']=tmptw\n",
    "    df['tmpth']=tmpth\n",
    "    df['tmptaspect_ratio']=tmptaspect_ratio\n",
    "    \n",
    "    df['tmpffile']=tmpffile\n",
    "    df['tmpfw']=tmpfw\n",
    "    df['tmpfh']=tmpfh\n",
    "    df['tmpfaspect_ratio']=tmpfaspect_ratio\n",
    "    \n",
    "    df['tmp_thumb_filename']=df.tmptfile.str.split('/',-1,expand=True)[3]\n",
    "    df['order']=df.tmp_thumb_filename.str.split('-',-1,expand=True)[0]\n",
    "    df['caption']=df.tmp_thumb_filename.str.replace('_',' ').str.rsplit('.',1,expand=True)[0]\n",
    "    \n",
    "    return df"
   ]
  },
  {
   "cell_type": "code",
   "execution_count": 138,
   "metadata": {},
   "outputs": [
    {
     "name": "stdout",
     "output_type": "stream",
     "text": [
      "processing image:images/Francisco Humeres - Clustering Experiments_files2/2-minneapolis.png\n",
      "resizing image\n",
      "original size ---> height: 914 width: 1072\n",
      "new size ---> height: 525 width: 447\n",
      "generating thumbnail\n",
      "original image dim---> height:447 width: 525\n",
      "(476, 405)\n",
      "resized image dim---> height:405 width: 476\n",
      "final thumbnail dim---> height:212 width: 476\n",
      "adding caption\n",
      "saving file images/tmp_cluster/fulls/2-minneapolis.png\n",
      "saving file images/tmp_cluster/thumbs/2-minneapolis.png\n",
      "processing image:images/Francisco Humeres - Clustering Experiments_files2/3-st_paul.png\n",
      "resizing image\n",
      "original size ---> height: 912 width: 1120\n",
      "new size ---> height: 525 width: 427\n",
      "generating thumbnail\n",
      "original image dim---> height:427 width: 525\n",
      "(476, 387)\n",
      "resized image dim---> height:387 width: 476\n",
      "final thumbnail dim---> height:212 width: 476\n",
      "adding caption\n",
      "saving file images/tmp_cluster/fulls/3-st_paul.png\n",
      "saving file images/tmp_cluster/thumbs/3-st_paul.png\n",
      "processing image:images/Francisco Humeres - Clustering Experiments_files2/0-buenos_aires_(yellow)-la_plata_(white).png\n",
      "resizing image\n",
      "original size ---> height: 494 width: 703\n",
      "new size ---> height: 525 width: 368\n",
      "generating thumbnail\n",
      "original image dim---> height:368 width: 525\n",
      "(476, 334)\n",
      "resized image dim---> height:334 width: 476\n",
      "final thumbnail dim---> height:212 width: 476\n",
      "adding caption\n",
      "saving file images/tmp_cluster/fulls/0-buenos_aires_(yellow)-la_plata_(white).png\n",
      "saving file images/tmp_cluster/thumbs/0-buenos_aires_(yellow)-la_plata_(white).png\n",
      "processing image:images/Francisco Humeres - Clustering Experiments_files2/1-osaka_(yellow)-kobe_(red).png\n",
      "resizing image\n",
      "original size ---> height: 396 width: 609\n",
      "new size ---> height: 525 width: 341\n",
      "generating thumbnail\n",
      "original image dim---> height:341 width: 525\n",
      "(476, 309)\n",
      "resized image dim---> height:309 width: 476\n",
      "final thumbnail dim---> height:212 width: 476\n",
      "adding caption\n",
      "saving file images/tmp_cluster/fulls/1-osaka_(yellow)-kobe_(red).png\n",
      "saving file images/tmp_cluster/thumbs/1-osaka_(yellow)-kobe_(red).png\n"
     ]
    }
   ],
   "source": [
    "tags=batch_resize(tags,thumb_target='images/tmp_cluster/thumbs',target='images/tmp_cluster/fulls',cap='(c) 2013-14 Francisco J. Humeres M.')"
   ]
  },
  {
   "cell_type": "code",
   "execution_count": 139,
   "metadata": {},
   "outputs": [],
   "source": [
    "def tags_order(tags):\n",
    "    tags['order']=tags['order'].astype(int)\n",
    "    tags=tags.sort_values(by='order')\n",
    "    tags['switch']=np.floor(tags['order']/8).diff().diff().fillna(0)\n",
    "    tags.loc[tags['order']==0,'switch']=0\n",
    "    if tags.shape[0]>8:\n",
    "        tags.loc[tags['order'].isin([7,8,9,10,11]),'switch']=[1,-1,0,0,0]\n",
    "    tags['index']=tags['order']\n",
    "    tags.index=tags['index']\n",
    "\n",
    "    introw=274 #row de frame de intro\n",
    "    tags['wcontrol']=tags['tmptw']\n",
    "    #print(tags)\n",
    "    \n",
    "    first_row=tags.loc[0,'wcontrol']+introw\n",
    "    \n",
    "    tags.loc[0,'wcontrol']=first_row\n",
    "    tags['wcontrol']=np.floor(tags['wcontrol'].cumsum()/tags.loc[0:7,'wcontrol'].sum()).diff().diff().fillna(0)\n",
    "    #tags.loc[0,'wcontrol']=0\n",
    "    #tags['wcontrol']=tags['switch']-tags['wcontrol']\n",
    "    tags['switch']=tags['wcontrol']\n",
    "    \n",
    "        \n",
    "    return tags"
   ]
  },
  {
   "cell_type": "code",
   "execution_count": 140,
   "metadata": {},
   "outputs": [],
   "source": [
    "tags=tags_order(tags)"
   ]
  },
  {
   "cell_type": "code",
   "execution_count": 141,
   "metadata": {},
   "outputs": [],
   "source": [
    "tags=tags[['switch','index','class','caption','tmpffile','tmptfile','order']].sort_values(by='order').rename(columns={'tmptfile':'thumb','tmpffile':'full'}).to_dict(orient='records')"
   ]
  },
  {
   "cell_type": "code",
   "execution_count": 142,
   "metadata": {},
   "outputs": [
    {
     "data": {
      "text/plain": [
       "[{'switch': 0.0,\n",
       "  'index': 0,\n",
       "  'class': 'item thumb span-3',\n",
       "  'caption': '0-buenos aires (yellow)-la plata (white)',\n",
       "  'full': 'images/tmp_cluster/fulls/0-buenos_aires_(yellow)-la_plata_(white).png',\n",
       "  'thumb': 'images/tmp_cluster/thumbs/0-buenos_aires_(yellow)-la_plata_(white).png',\n",
       "  'order': 0},\n",
       " {'switch': 0.0,\n",
       "  'index': 1,\n",
       "  'class': 'item thumb span-2',\n",
       "  'caption': '1-osaka (yellow)-kobe (red)',\n",
       "  'full': 'images/tmp_cluster/fulls/1-osaka_(yellow)-kobe_(red).png',\n",
       "  'thumb': 'images/tmp_cluster/thumbs/1-osaka_(yellow)-kobe_(red).png',\n",
       "  'order': 1},\n",
       " {'switch': 0.0,\n",
       "  'index': 2,\n",
       "  'class': 'item thumb span-3',\n",
       "  'caption': '2-minneapolis',\n",
       "  'full': 'images/tmp_cluster/fulls/2-minneapolis.png',\n",
       "  'thumb': 'images/tmp_cluster/thumbs/2-minneapolis.png',\n",
       "  'order': 2},\n",
       " {'switch': 1.0,\n",
       "  'index': 3,\n",
       "  'class': 'item thumb span-2',\n",
       "  'caption': '3-st paul',\n",
       "  'full': 'images/tmp_cluster/fulls/3-st_paul.png',\n",
       "  'thumb': 'images/tmp_cluster/thumbs/3-st_paul.png',\n",
       "  'order': 3}]"
      ]
     },
     "execution_count": 142,
     "metadata": {},
     "output_type": "execute_result"
    }
   ],
   "source": [
    "tags"
   ]
  },
  {
   "cell_type": "code",
   "execution_count": 143,
   "metadata": {},
   "outputs": [],
   "source": [
    "from jinja2 import Template\n",
    "with open('template.html') as file_:\n",
    "    template = Template(file_.read())\n"
   ]
  },
  {
   "cell_type": "code",
   "execution_count": 144,
   "metadata": {},
   "outputs": [],
   "source": [
    "rendered=template.render(tags=tags)"
   ]
  },
  {
   "cell_type": "code",
   "execution_count": 145,
   "metadata": {},
   "outputs": [],
   "source": [
    "with open('cluster2.html', 'w') as f:\n",
    "    f.write(rendered)"
   ]
  },
  {
   "cell_type": "code",
   "execution_count": null,
   "metadata": {},
   "outputs": [],
   "source": []
  }
 ],
 "metadata": {
  "kernelspec": {
   "display_name": "Python 3",
   "language": "python",
   "name": "python3"
  },
  "language_info": {
   "codemirror_mode": {
    "name": "ipython",
    "version": 3
   },
   "file_extension": ".py",
   "mimetype": "text/x-python",
   "name": "python",
   "nbconvert_exporter": "python",
   "pygments_lexer": "ipython3",
   "version": "3.7.6"
  }
 },
 "nbformat": 4,
 "nbformat_minor": 4
}
